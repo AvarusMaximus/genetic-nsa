{
 "cells": [
  {
   "cell_type": "code",
   "execution_count": 229,
   "metadata": {},
   "outputs": [],
   "source": [
    "import numpy as np\n",
    "import pandas as pd\n",
    "import scipy.spatial.distance as dt"
   ]
  },
  {
   "cell_type": "code",
   "execution_count": 230,
   "metadata": {},
   "outputs": [],
   "source": [
    "self_point = [] # Self points all have radius R\n",
    "detector = [] # Detector point coordinates\n",
    "detector_radius = [] # Detector radius\n",
    "test_point = [] # Test point coordinates\n",
    "test_label = [] # Test point label- 0:True, 1&2:False\n",
    "all_points = [] # All data points"
   ]
  },
  {
   "cell_type": "code",
   "execution_count": 231,
   "metadata": {},
   "outputs": [],
   "source": [
    "# Hyperparameters of the NSA as specified by the instructions.txt file\n",
    "\n",
    "R = 7 # Radius of self points\n",
    "M = 30 # Number of detectors\n",
    "samples = 25 # Number of test points\n",
    "epochs = 30 # Number of epochs"
   ]
  },
  {
   "cell_type": "code",
   "execution_count": 232,
   "metadata": {},
   "outputs": [],
   "source": [
    "# Handling the Training Data\n",
    "\n",
    "train_in = pd.read_csv(\"input_train_data.csv\", header=None)\n",
    "train_out = pd.read_csv(\"output_train_data.csv\", header=None)"
   ]
  },
  {
   "cell_type": "code",
   "execution_count": 233,
   "metadata": {},
   "outputs": [],
   "source": [
    "train_in.drop(train_in.columns[0], axis=0, inplace=True)\n",
    "train_in.drop(train_in.columns[0], axis=1, inplace=True)\n",
    "\n",
    "train_in = train_in.astype(int)"
   ]
  },
  {
   "cell_type": "code",
   "execution_count": 234,
   "metadata": {},
   "outputs": [
    {
     "name": "stdout",
     "output_type": "stream",
     "text": [
      "Number of Self Points: 32 \n",
      "Number of Total Points: 100\n"
     ]
    }
   ],
   "source": [
    "c = p = 0\n",
    "for i in range(len(train_in)):\n",
    "    all_points.append(np.array(train_in.iloc[i])) # Appending all points of the training data to the all_points list\n",
    "    if train_out.iloc[i][0] == 1:\n",
    "        self_point.append(np.array(train_in.iloc[i])) # Appending all self points to the self_point list\n",
    "        p += 1 # Counting the number of self points\n",
    "    c += 1 # Counting the total number of points\n",
    "\n",
    "print(\"Number of Self Points:\", p, \"\\nNumber of Total Points:\", c)"
   ]
  },
  {
   "cell_type": "code",
   "execution_count": 235,
   "metadata": {},
   "outputs": [],
   "source": [
    "# Handling the Test Data\n",
    "\n",
    "test_out = pd.read_csv(\"output_test_data.csv\", header=None)\n",
    "test_in = pd.read_csv(\"input_test_data.csv\", header=None)\n",
    "\n",
    "test_in.drop(test_in.columns[0], axis=0, inplace=True)\n",
    "test_in.drop(test_in.columns[0], axis=1, inplace=True)\n",
    "\n",
    "test_in = test_in.astype(int)"
   ]
  },
  {
   "cell_type": "code",
   "execution_count": 236,
   "metadata": {},
   "outputs": [],
   "source": [
    "c = 0\n",
    "for i in range(len(test_in)): \n",
    "    c += 1 # Counting the total number of points\n",
    "    test_point.append(np.array(test_in.iloc[i])) # Appending all test points to the test_point list\n",
    "    if test_out.iloc[i][0] == 1: # Appending the label of the test points to the test_label list\n",
    "        test_label.append(True)\n",
    "    else:\n",
    "        test_label.append(False)"
   ]
  },
  {
   "cell_type": "code",
   "execution_count": 237,
   "metadata": {},
   "outputs": [],
   "source": [
    "dim = len(self_point[0]) # Dimension of the self data points"
   ]
  },
  {
   "cell_type": "code",
   "execution_count": 238,
   "metadata": {},
   "outputs": [],
   "source": [
    "def distance(x1, x2): \n",
    "    '''\n",
    "    Function to calculate the Minkowski distance between two points\n",
    "    '''\n",
    "    return dt.minkowski(x1, x2, 1) / len(x1) # Using p = 1 for the Minkowski distance"
   ]
  },
  {
   "cell_type": "code",
   "execution_count": 239,
   "metadata": {},
   "outputs": [],
   "source": [
    "def calcR(x):\n",
    "    '''\n",
    "    Function to calculate the radius of the detector\n",
    "    '''\n",
    "\n",
    "    # Finding the distance of sample point nearest to the detector\n",
    "    min_dist = float('inf') # Initializing the minimum distance to infinity\n",
    "    for point in self_point:\n",
    "        dist = distance(x, point) # Calculating the distance between the detector point and the self point\n",
    "        if dist < min_dist: # Updating the minimum distance\n",
    "            min_dist = dist\n",
    "\n",
    "    # Checking if the point lies within the range of any detector\n",
    "    pos = None # Initializing the position of the detector to None\n",
    "    for i in range(len(detector)):\n",
    "        dist = distance(x, detector[i]) # Calculating the distance between the detector point and the sample point\n",
    "        if dist < detector_radius[i]: # Checking if the sample point lies within the range of the detector\n",
    "            return -1 # Returning -1 if the sample point lies within the range of the detector\n",
    "        if dist < min_dist: # Updating the minimum distance\n",
    "            min_dist = dist\n",
    "            pos = i # Updating the position of the detector\n",
    "\n",
    "    # Calculating the radius. If it is a valid detector then r > 0\n",
    "    if pos is not None:\n",
    "        r = min_dist - detector_radius[pos] # Calculating the distance when detector point is near\n",
    "    else:\n",
    "        r = min_dist - R # Calculating the distance when detector point is far\n",
    "\n",
    "    return r # Returning the radius"
   ]
  },
  {
   "cell_type": "code",
   "execution_count": 240,
   "metadata": {},
   "outputs": [
    {
     "data": {
      "text/plain": [
       "array([25, 66, 44, 79])"
      ]
     },
     "execution_count": 240,
     "metadata": {},
     "output_type": "execute_result"
    }
   ],
   "source": [
    "max_values = np.amax(all_points, axis=0) # Finding the maximum value of each field\n",
    "max_values"
   ]
  },
  {
   "cell_type": "code",
   "execution_count": 241,
   "metadata": {},
   "outputs": [],
   "source": [
    "class GA:\n",
    "    '''\n",
    "    Class to implement the Genetic Algorithm\n",
    "    '''\n",
    "    def __init__(self): # Initializing the class\n",
    "        gene_T = [] \n",
    "        for i in range(dim): \n",
    "            gene_T.append(np.random.random_integers(0, max_values[i], size = samples)) # Generating a population of random points\n",
    "        self.population = np.transpose(gene_T) # Transposing the gene matrix\n",
    "        \n",
    "        # Rectifying the generated population\n",
    "        for p in range(samples):\n",
    "            r = calcR(self.population[p]) # Calculating the radius of the possible detector point\n",
    "            while r <= 0: # Rectifying until valid r > 0 is obtained\n",
    "                i = 0\n",
    "                while i < dim:\n",
    "                    self.population[p][i] = np.random.randint(1, max_values[i])\n",
    "                    i += 1\n",
    "                r = calcR(self.population[p]) # Calculating the radius of the possible detector point\n",
    "\n",
    "    def mutate(self, population): # Mutating the newly created population\n",
    "        total_no = dim * int(samples / 2) # Total number of genes\n",
    "        mutations = int(.4 * total_no) # 40% mutation is done\n",
    "        arr = np.array([1] * mutations + [0] * (total_no - mutations)) # Creating an array of 1s and 0s\n",
    "        np.random.shuffle(arr) # Shuffling the array\n",
    "        arr = arr.reshape((int(samples / 2), dim)) # Reshaping the array\n",
    "        indices = np.where(arr == 1) # Finding the places for mutations randomly\n",
    "        for i in indices:\n",
    "            population[i[0]][i[1]] = np.random.randint(1, max_values[i[1]]) # Mutating the population and providing the new values\n",
    "\n",
    "        return population # Returning the mutated population\n",
    "    \n",
    "    def crossover(self, cost_list):\n",
    "        '''\n",
    "        Function to perform crossover\n",
    "        '''\n",
    "        median = np.median(cost_list) # Finding the median of the cost list\n",
    "        new_population = np.zeros((int(samples / 2), dim), dtype = int) # Initializing the new population\n",
    "        for i in range(int(samples / 2)):\n",
    "            parent1 = self.population[i * 2] # Selecting the first parent\n",
    "            parent2 = self.population[i * 2 + 1] # Selecting the second parent\n",
    "\n",
    "            # Performing a multi-point crossover with odd places from parent2 and others from parent1\n",
    "            for j in range(dim):\n",
    "                if j % 2 == 0:\n",
    "                    new_population[i][j] = parent1[j]\n",
    "                else:\n",
    "                    new_population[i][j] = parent2[j]\n",
    "\n",
    "        new_population = self.mutate(new_population) # Mutating the new population\n",
    "\n",
    "        # Rectifying the generated population\n",
    "        for p in range(int(samples / 2)):\n",
    "            r = calcR(new_population[p]) # Calculating the radius of the possible detector point\n",
    "            while r <= 0: # Rectifying until valid r > 0 is obtained\n",
    "                i = 0\n",
    "                while i < dim:\n",
    "                    new_population[p][i] = np.random.randint(1, max_values[i])\n",
    "                    i += 1\n",
    "                r = calcR(new_population[p]) # Calculating the radius of the possible detector point\n",
    "                \n",
    "        # Replacing the worst half of the population with the new population\n",
    "        c = int(samples / 2) - 1 # Initializing the counter\n",
    "        for i in range(len(self.population)): # Iterating over the population\n",
    "            if cost_list[i] < median and c >= 0: # Checking if the cost is less than the median\n",
    "                self.population[i] = new_population[c] # Replacing the worst half of the population with the new population\n",
    "                c -= 1 # Decrementing the counter\n",
    "            if c < 0: # Breaking the loop if the counter is less than 0\n",
    "                break"
   ]
  },
  {
   "cell_type": "code",
   "execution_count": 242,
   "metadata": {},
   "outputs": [],
   "source": [
    "def create_negative_detectors():\n",
    "    '''\n",
    "    Function to create the negative detectors\n",
    "    '''\n",
    "    obj = GA() # Creating an object of the GA class\n",
    "    cost_list = [] # Initializing the cost list\n",
    "    for i in range(epochs): # Iterating over the epochs\n",
    "        cost_list = [] \n",
    "        for j in range(samples): \n",
    "            cost_list.append(calcR(obj.population[j])) # Calculating the radius of the detector\n",
    "        obj.crossover(cost_list) # Performing crossover\n",
    "        print(str(max(cost_list)) + \" \", end = \"\")\n",
    "\n",
    "    pos = np.arange(samples) # Creating an array of positions\n",
    "    pos = [x for _, x in sorted(zip(cost_list, pos), reverse = True)] # Sorting the cost list in descending order\n",
    "    pos = pos[:2] # Selecting the top 2 positions\n",
    "    print(\"\\nPopulation:\\n\",obj.population, \"\\n___________________________\")\n",
    "    return (obj.population[pos[0]], obj.population[pos[1]]), (cost_list[pos[0]], cost_list[pos[1]]) # Returning the top 2 positions"
   ]
  },
  {
   "cell_type": "code",
   "execution_count": 243,
   "metadata": {},
   "outputs": [],
   "source": [
    "def populate_detectors():\n",
    "    '''\n",
    "    Function to populate the detectors\n",
    "    '''\n",
    "    i = 0\n",
    "    while i < M: # Iterating over the number of detectors\n",
    "        population, pop_rad = create_negative_detectors() # Creating the population of detectors\n",
    "\n",
    "        # Appending the best detector to the detector list\n",
    "        detector.append(population[0])\n",
    "        detector_radius.append(pop_rad[0])\n",
    "        i += 1\n",
    "        print(\"INFO: Appending Detector \" + str(i) + \" \" + \" \".join(str(x) for x in population[0]) + \" Radius: \" + str(pop_rad[0])) \n",
    "\n",
    "        if i == M:\n",
    "            break\n",
    "\n",
    "        r = calcR(population[1]) # Calculating the r=new radius of the second best detector\n",
    "        if r > 0: # Appending if valid\n",
    "            detector.append(population[1])\n",
    "            detector_radius.append(r)\n",
    "\n",
    "            i += 1\n",
    "            print(\"INFO: Appending Detector \" + str(i) + \" \" + \" \".join(str(x) for x in population[1]) + \" Radius: \" + str(r))\n"
   ]
  },
  {
   "cell_type": "code",
   "execution_count": 244,
   "metadata": {},
   "outputs": [],
   "source": [
    "def calcDecR(x): \n",
    "    '''\n",
    "    Function to check if the sample point lies within the range of any detector\n",
    "    '''\n",
    "    for i in range(M):\n",
    "        dist = distance(detector[i], x) # Calculating the distance between the detector point and the sample point\n",
    "        if dist < detector_radius[i]: # Checking if the sample point lies within the range of the detector\n",
    "            return False # Returning False if the sample point lies within the range of the detector\n",
    "    return True # Returning True if the sample point lies outside the range of the detector"
   ]
  },
  {
   "cell_type": "code",
   "execution_count": 1,
   "metadata": {},
   "outputs": [],
   "source": [
    "def test():\n",
    "    populate_detectors() # Populating the detectors\n",
    "    acc = 0 # Initializing the accuracy\n",
    "    for i in range(len(test_point)):\n",
    "        pred = calcDecR(test_point[i]) # Calculating the prediction\n",
    "        if pred == test_label[i]:\n",
    "            acc += 1 # Incrementing the accuracy if the prediction is correct\n",
    "            print(\"Correct Prediction \" + \" \".join(str(x) for x in test_point[i]) + \" Predct: \" + str(pred) + \" Actual: \" + str(test_label[i]))\n",
    "        else:\n",
    "            print(\"Wrong Prediction \" + \" \".join(str(x) for x in test_point[i]) + \" Predct: \" + str(pred) + \" Actual: \" + str(test_label[i]))\n",
    "    print(\"Accuracy: \" + str(acc / len(test_point))) # Printing the accuracy"
   ]
  },
  {
   "cell_type": "code",
   "execution_count": 2,
   "metadata": {},
   "outputs": [
    {
     "ename": "NameError",
     "evalue": "name 'populate_detectors' is not defined",
     "output_type": "error",
     "traceback": [
      "\u001b[1;31m---------------------------------------------------------------------------\u001b[0m",
      "\u001b[1;31mNameError\u001b[0m                                 Traceback (most recent call last)",
      "\u001b[1;32mc:\\Users\\theri\\OneDrive - smail.iitm.ac.in\\AIS Tasks\\Genetic NSA\\genetic_nsa.ipynb Cell 18\u001b[0m line \u001b[0;36m1\n\u001b[1;32m----> <a href='vscode-notebook-cell:/c%3A/Users/theri/OneDrive%20-%20smail.iitm.ac.in/AIS%20Tasks/Genetic%20NSA/genetic_nsa.ipynb#X23sZmlsZQ%3D%3D?line=0'>1</a>\u001b[0m test()\n",
      "\u001b[1;32mc:\\Users\\theri\\OneDrive - smail.iitm.ac.in\\AIS Tasks\\Genetic NSA\\genetic_nsa.ipynb Cell 18\u001b[0m line \u001b[0;36m2\n\u001b[0;32m      <a href='vscode-notebook-cell:/c%3A/Users/theri/OneDrive%20-%20smail.iitm.ac.in/AIS%20Tasks/Genetic%20NSA/genetic_nsa.ipynb#X23sZmlsZQ%3D%3D?line=0'>1</a>\u001b[0m \u001b[39mdef\u001b[39;00m \u001b[39mtest\u001b[39m():\n\u001b[1;32m----> <a href='vscode-notebook-cell:/c%3A/Users/theri/OneDrive%20-%20smail.iitm.ac.in/AIS%20Tasks/Genetic%20NSA/genetic_nsa.ipynb#X23sZmlsZQ%3D%3D?line=1'>2</a>\u001b[0m     populate_detectors() \u001b[39m# Populating the detectors\u001b[39;00m\n\u001b[0;32m      <a href='vscode-notebook-cell:/c%3A/Users/theri/OneDrive%20-%20smail.iitm.ac.in/AIS%20Tasks/Genetic%20NSA/genetic_nsa.ipynb#X23sZmlsZQ%3D%3D?line=2'>3</a>\u001b[0m     acc \u001b[39m=\u001b[39m \u001b[39m0\u001b[39m \u001b[39m# Initializing the accuracy\u001b[39;00m\n\u001b[0;32m      <a href='vscode-notebook-cell:/c%3A/Users/theri/OneDrive%20-%20smail.iitm.ac.in/AIS%20Tasks/Genetic%20NSA/genetic_nsa.ipynb#X23sZmlsZQ%3D%3D?line=3'>4</a>\u001b[0m     \u001b[39mfor\u001b[39;00m i \u001b[39min\u001b[39;00m \u001b[39mrange\u001b[39m(\u001b[39mlen\u001b[39m(test_point)):\n",
      "\u001b[1;31mNameError\u001b[0m: name 'populate_detectors' is not defined"
     ]
    }
   ],
   "source": [
    "test()"
   ]
  },
  {
   "cell_type": "code",
   "execution_count": null,
   "metadata": {},
   "outputs": [],
   "source": []
  }
 ],
 "metadata": {
  "kernelspec": {
   "display_name": "Python 3",
   "language": "python",
   "name": "python3"
  },
  "language_info": {
   "codemirror_mode": {
    "name": "ipython",
    "version": 3
   },
   "file_extension": ".py",
   "mimetype": "text/x-python",
   "name": "python",
   "nbconvert_exporter": "python",
   "pygments_lexer": "ipython3",
   "version": "3.11.5"
  },
  "orig_nbformat": 4
 },
 "nbformat": 4,
 "nbformat_minor": 2
}
